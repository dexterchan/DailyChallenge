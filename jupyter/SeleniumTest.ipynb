{
 "cells": [
  {
   "cell_type": "code",
   "execution_count": 1,
   "metadata": {},
   "outputs": [],
   "source": [
    "from bs4 import BeautifulSoup\n",
    "from selenium import webdriver\n",
    "driver = webdriver.Chrome()"
   ]
  },
  {
   "cell_type": "code",
   "execution_count": 2,
   "metadata": {},
   "outputs": [],
   "source": [
    "driver.get('https://www.nasdaq.com/market-activity/stocks/aapl/institutional-holdings')"
   ]
  },
  {
   "cell_type": "code",
   "execution_count": 3,
   "metadata": {},
   "outputs": [],
   "source": [
    "html = driver.page_source\n",
    "soup = BeautifulSoup(html)"
   ]
  },
  {
   "cell_type": "code",
   "execution_count": 28,
   "metadata": {},
   "outputs": [
    {
     "data": {
      "text/plain": [
       "['OWNER NAME',\n",
       " 'DATE',\n",
       " 'SHARES HELD',\n",
       " 'CHANGE (SHARES)',\n",
       " 'CHANGE (%)',\n",
       " 'VALUE (IN 1,000S)']"
      ]
     },
     "execution_count": 28,
     "metadata": {},
     "output_type": "execute_result"
    }
   ],
   "source": [
    "#list the columns name\n",
    "column_list = []\n",
    "column_table_begin = None\n",
    "for col in soup.find_all(\"span\", class_=\"institutional-holdings__columnheader-text\"):\n",
    "    if col.text == \"OWNER NAME\":\n",
    "        column_table_begin = col.parent.parent.parent\n",
    "column_table_begin        \n",
    "for col in column_table_begin.find_all(\"span\", class_=\"institutional-holdings__columnheader-text\"):\n",
    "    column_list.append(col.text)\n",
    "column_list"
   ]
  },
  {
   "cell_type": "code",
   "execution_count": 29,
   "metadata": {},
   "outputs": [],
   "source": [
    "import pandas as pd\n",
    "from collections import defaultdict\n",
    "from typing import List\n",
    "def load_to_dataframe(soup, column_list=List[str]) -> pd.DataFrame:\n",
    "    temp_data = defaultdict(list)\n",
    "    for row in soup.find_all(\"a\", class_=\"firstCell\"):\n",
    "        #v = row.find_next(\"a\", class_=\"firstCell\")\n",
    "        # Get the first column\n",
    "        v_row = (row.parent.parent)\n",
    "        inx = 0\n",
    "\n",
    "        for cols in v_row.find_all(\"td\", class_=\"institutional-holdings__cell institutional-holdings__cell--heading\"):\n",
    "            temp_data[column_list[inx]].append(cols.text)\n",
    "            inx += 1\n",
    "    df = pd.DataFrame(data=temp_data )\n",
    "    return df\n",
    "df = load_to_dataframe(soup=soup, column_list=column_list)\n",
    "df[column_list[len(column_list)-1]] = df[column_list[len(column_list)-1]].map(lambda x: float(x.strip('$').replace(\",\",\"\")))\n",
    "df[column_list[2]] = df[column_list[2]].map(lambda x: float(x.strip('$').replace(\",\",\"\")))"
   ]
  },
  {
   "cell_type": "code",
   "execution_count": 30,
   "metadata": {},
   "outputs": [
    {
     "data": {
      "text/html": [
       "<div>\n",
       "<style scoped>\n",
       "    .dataframe tbody tr th:only-of-type {\n",
       "        vertical-align: middle;\n",
       "    }\n",
       "\n",
       "    .dataframe tbody tr th {\n",
       "        vertical-align: top;\n",
       "    }\n",
       "\n",
       "    .dataframe thead th {\n",
       "        text-align: right;\n",
       "    }\n",
       "</style>\n",
       "<table border=\"1\" class=\"dataframe\">\n",
       "  <thead>\n",
       "    <tr style=\"text-align: right;\">\n",
       "      <th></th>\n",
       "      <th>OWNER NAME</th>\n",
       "      <th>DATE</th>\n",
       "      <th>SHARES HELD</th>\n",
       "      <th>CHANGE (SHARES)</th>\n",
       "      <th>CHANGE (%)</th>\n",
       "      <th>VALUE (IN 1,000S)</th>\n",
       "    </tr>\n",
       "  </thead>\n",
       "  <tbody>\n",
       "    <tr>\n",
       "      <th>0</th>\n",
       "      <td>WELLS FARGO &amp; COMPANY/MN</td>\n",
       "      <td>06/30/2021</td>\n",
       "      <td>80247163.0</td>\n",
       "      <td>-2,717,272</td>\n",
       "      <td>-3.275%</td>\n",
       "      <td>12382137.0</td>\n",
       "    </tr>\n",
       "    <tr>\n",
       "      <th>1</th>\n",
       "      <td>CHARLES SCHWAB INVESTMENT MANAGEMENT INC</td>\n",
       "      <td>06/30/2021</td>\n",
       "      <td>76847971.0</td>\n",
       "      <td>898,803</td>\n",
       "      <td>1.183%</td>\n",
       "      <td>11857642.0</td>\n",
       "    </tr>\n",
       "    <tr>\n",
       "      <th>2</th>\n",
       "      <td>GOLDMAN SACHS GROUP INC</td>\n",
       "      <td>06/30/2021</td>\n",
       "      <td>69709737.0</td>\n",
       "      <td>1,384,172</td>\n",
       "      <td>2.026%</td>\n",
       "      <td>10756212.0</td>\n",
       "    </tr>\n",
       "    <tr>\n",
       "      <th>3</th>\n",
       "      <td>UBS ASSET MANAGEMENT AMERICAS INC</td>\n",
       "      <td>06/30/2021</td>\n",
       "      <td>68465124.0</td>\n",
       "      <td>-1,868,959</td>\n",
       "      <td>-2.657%</td>\n",
       "      <td>10564169.0</td>\n",
       "    </tr>\n",
       "    <tr>\n",
       "      <th>4</th>\n",
       "      <td>SWISS NATIONAL BANK</td>\n",
       "      <td>06/30/2021</td>\n",
       "      <td>68455408.0</td>\n",
       "      <td>2,852,012</td>\n",
       "      <td>4.347%</td>\n",
       "      <td>10562669.0</td>\n",
       "    </tr>\n",
       "    <tr>\n",
       "      <th>5</th>\n",
       "      <td>WELLINGTON MANAGEMENT GROUP LLP</td>\n",
       "      <td>06/30/2021</td>\n",
       "      <td>65202304.0</td>\n",
       "      <td>-3,611,115</td>\n",
       "      <td>-5.248%</td>\n",
       "      <td>10060716.0</td>\n",
       "    </tr>\n",
       "    <tr>\n",
       "      <th>6</th>\n",
       "      <td>FISHER ASSET MANAGEMENT, LLC</td>\n",
       "      <td>06/30/2021</td>\n",
       "      <td>64859659.0</td>\n",
       "      <td>2,045,740</td>\n",
       "      <td>3.257%</td>\n",
       "      <td>10007845.0</td>\n",
       "    </tr>\n",
       "    <tr>\n",
       "      <th>7</th>\n",
       "      <td>ROYAL BANK OF CANADA</td>\n",
       "      <td>06/30/2021</td>\n",
       "      <td>62888270.0</td>\n",
       "      <td>1,238,582</td>\n",
       "      <td>2.009%</td>\n",
       "      <td>9703660.0</td>\n",
       "    </tr>\n",
       "    <tr>\n",
       "      <th>8</th>\n",
       "      <td>PARAMETRIC PORTFOLIO ASSOCIATES LLC</td>\n",
       "      <td>06/30/2021</td>\n",
       "      <td>55386793.0</td>\n",
       "      <td>1,175,764</td>\n",
       "      <td>2.169%</td>\n",
       "      <td>8546182.0</td>\n",
       "    </tr>\n",
       "    <tr>\n",
       "      <th>9</th>\n",
       "      <td>SUMITOMO MITSUI TRUST HOLDINGS, INC.</td>\n",
       "      <td>06/30/2021</td>\n",
       "      <td>55210278.0</td>\n",
       "      <td>-5,528,749</td>\n",
       "      <td>-9.102%</td>\n",
       "      <td>8518946.0</td>\n",
       "    </tr>\n",
       "    <tr>\n",
       "      <th>10</th>\n",
       "      <td>JANUS HENDERSON GROUP PLC</td>\n",
       "      <td>06/30/2021</td>\n",
       "      <td>53668614.0</td>\n",
       "      <td>-8,807,746</td>\n",
       "      <td>-14.098%</td>\n",
       "      <td>8281067.0</td>\n",
       "    </tr>\n",
       "    <tr>\n",
       "      <th>11</th>\n",
       "      <td>AMERIPRISE FINANCIAL INC</td>\n",
       "      <td>06/30/2021</td>\n",
       "      <td>51291588.0</td>\n",
       "      <td>-2,122,252</td>\n",
       "      <td>-3.973%</td>\n",
       "      <td>7914292.0</td>\n",
       "    </tr>\n",
       "    <tr>\n",
       "      <th>12</th>\n",
       "      <td>DIMENSIONAL FUND ADVISORS LP</td>\n",
       "      <td>06/30/2021</td>\n",
       "      <td>51132088.0</td>\n",
       "      <td>1,024,737</td>\n",
       "      <td>2.045%</td>\n",
       "      <td>7889681.0</td>\n",
       "    </tr>\n",
       "    <tr>\n",
       "      <th>13</th>\n",
       "      <td>JENNISON ASSOCIATES LLC</td>\n",
       "      <td>06/30/2021</td>\n",
       "      <td>49235544.0</td>\n",
       "      <td>-6,243,689</td>\n",
       "      <td>-11.254%</td>\n",
       "      <td>7597044.0</td>\n",
       "    </tr>\n",
       "    <tr>\n",
       "      <th>14</th>\n",
       "      <td>DEUTSCHE BANK AG\\</td>\n",
       "      <td>06/30/2021</td>\n",
       "      <td>48644402.0</td>\n",
       "      <td>2,074,550</td>\n",
       "      <td>4.455%</td>\n",
       "      <td>7505831.0</td>\n",
       "    </tr>\n",
       "  </tbody>\n",
       "</table>\n",
       "</div>"
      ],
      "text/plain": [
       "                                  OWNER NAME        DATE  SHARES HELD  \\\n",
       "0                   WELLS FARGO & COMPANY/MN  06/30/2021   80247163.0   \n",
       "1   CHARLES SCHWAB INVESTMENT MANAGEMENT INC  06/30/2021   76847971.0   \n",
       "2                    GOLDMAN SACHS GROUP INC  06/30/2021   69709737.0   \n",
       "3          UBS ASSET MANAGEMENT AMERICAS INC  06/30/2021   68465124.0   \n",
       "4                        SWISS NATIONAL BANK  06/30/2021   68455408.0   \n",
       "5            WELLINGTON MANAGEMENT GROUP LLP  06/30/2021   65202304.0   \n",
       "6               FISHER ASSET MANAGEMENT, LLC  06/30/2021   64859659.0   \n",
       "7                       ROYAL BANK OF CANADA  06/30/2021   62888270.0   \n",
       "8        PARAMETRIC PORTFOLIO ASSOCIATES LLC  06/30/2021   55386793.0   \n",
       "9       SUMITOMO MITSUI TRUST HOLDINGS, INC.  06/30/2021   55210278.0   \n",
       "10                 JANUS HENDERSON GROUP PLC  06/30/2021   53668614.0   \n",
       "11                  AMERIPRISE FINANCIAL INC  06/30/2021   51291588.0   \n",
       "12              DIMENSIONAL FUND ADVISORS LP  06/30/2021   51132088.0   \n",
       "13                   JENNISON ASSOCIATES LLC  06/30/2021   49235544.0   \n",
       "14                         DEUTSCHE BANK AG\\  06/30/2021   48644402.0   \n",
       "\n",
       "   CHANGE (SHARES) CHANGE (%)  VALUE (IN 1,000S)  \n",
       "0       -2,717,272    -3.275%         12382137.0  \n",
       "1          898,803     1.183%         11857642.0  \n",
       "2        1,384,172     2.026%         10756212.0  \n",
       "3       -1,868,959    -2.657%         10564169.0  \n",
       "4        2,852,012     4.347%         10562669.0  \n",
       "5       -3,611,115    -5.248%         10060716.0  \n",
       "6        2,045,740     3.257%         10007845.0  \n",
       "7        1,238,582     2.009%          9703660.0  \n",
       "8        1,175,764     2.169%          8546182.0  \n",
       "9       -5,528,749    -9.102%          8518946.0  \n",
       "10      -8,807,746   -14.098%          8281067.0  \n",
       "11      -2,122,252    -3.973%          7914292.0  \n",
       "12       1,024,737     2.045%          7889681.0  \n",
       "13      -6,243,689   -11.254%          7597044.0  \n",
       "14       2,074,550     4.455%          7505831.0  "
      ]
     },
     "execution_count": 30,
     "metadata": {},
     "output_type": "execute_result"
    }
   ],
   "source": [
    "df"
   ]
  },
  {
   "cell_type": "code",
   "execution_count": 14,
   "metadata": {},
   "outputs": [
    {
     "name": "stdout",
     "output_type": "stream",
     "text": [
      "1\n",
      "2\n",
      "3\n",
      "4\n",
      "5\n",
      "6\n",
      "7\n",
      "265\n"
     ]
    }
   ],
   "source": [
    "bttn2 = None\n",
    "for bttn in soup.find_all(\"button\", class_=\"pagination__page\"):\n",
    "    print(bttn.text)\n",
    "    if bttn.text == \"2\":\n",
    "        bttn2 = bttn"
   ]
  },
  {
   "cell_type": "code",
   "execution_count": 26,
   "metadata": {},
   "outputs": [],
   "source": [
    "buttons = driver.find_elements_by_tag_name(\"button.pagination__page\")\n",
    "buttons[1].click()"
   ]
  },
  {
   "cell_type": "code",
   "execution_count": 27,
   "metadata": {},
   "outputs": [],
   "source": [
    "\n",
    "html = driver.page_source\n",
    "soup = BeautifulSoup(html)"
   ]
  },
  {
   "cell_type": "code",
   "execution_count": 8,
   "metadata": {},
   "outputs": [],
   "source": [
    "with open (\"page.txt\", \"w\") as f:\n",
    "    f.write(soup.text)"
   ]
  },
  {
   "cell_type": "code",
   "execution_count": 9,
   "metadata": {},
   "outputs": [],
   "source": [
    "with open(\"page.html\", \"w\") as f:\n",
    "    f.write(str(soup))"
   ]
  },
  {
   "cell_type": "code",
   "execution_count": 10,
   "metadata": {},
   "outputs": [],
   "source": [
    "from collections import defaultdict\n",
    "\n",
    "temp_data = defaultdict(list)"
   ]
  },
  {
   "cell_type": "code",
   "execution_count": null,
   "metadata": {},
   "outputs": [],
   "source": []
  }
 ],
 "metadata": {
  "kernelspec": {
   "display_name": "Python 3",
   "language": "python",
   "name": "python3"
  },
  "language_info": {
   "codemirror_mode": {
    "name": "ipython",
    "version": 3
   },
   "file_extension": ".py",
   "mimetype": "text/x-python",
   "name": "python",
   "nbconvert_exporter": "python",
   "pygments_lexer": "ipython3",
   "version": "3.9.6"
  }
 },
 "nbformat": 4,
 "nbformat_minor": 4
}
