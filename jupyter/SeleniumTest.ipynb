{
 "cells": [
  {
   "cell_type": "code",
   "execution_count": 1,
   "metadata": {},
   "outputs": [],
   "source": [
    "stock=\"mrna\""
   ]
  },
  {
   "cell_type": "code",
   "execution_count": 2,
   "metadata": {},
   "outputs": [],
   "source": [
    "from bs4 import BeautifulSoup\n",
    "from selenium import webdriver\n",
    "from selenium.webdriver.chrome.options import Options\n",
    "chrome_options = Options()  \n",
    "user_agent = \"Mozilla/5.0 (Macintosh; Intel Mac OS X 10_15_7) AppleWebKit/537.36 (KHTML, like Gecko) Chrome/92.0.4515.159 Safari/537.36\"\n",
    "chrome_options.add_argument(\"--headless\")\n",
    "chrome_options.add_argument('user-agent={0}'.format(user_agent))\n",
    "driver = webdriver.Chrome(options=chrome_options)"
   ]
  },
  {
   "cell_type": "code",
   "execution_count": 3,
   "metadata": {},
   "outputs": [],
   "source": [
    "driver.get(f'https://www.nasdaq.com/market-activity/stocks/{stock}/institutional-holdings')"
   ]
  },
  {
   "cell_type": "code",
   "execution_count": 4,
   "metadata": {},
   "outputs": [],
   "source": [
    "html = driver.page_source\n",
    "soup = BeautifulSoup(html)"
   ]
  },
  {
   "cell_type": "code",
   "execution_count": 5,
   "metadata": {},
   "outputs": [
    {
     "data": {
      "text/plain": [
       "['OWNER NAME',\n",
       " 'DATE',\n",
       " 'SHARES HELD',\n",
       " 'CHANGE (SHARES)',\n",
       " 'CHANGE (%)',\n",
       " 'VALUE (IN 1,000S)']"
      ]
     },
     "execution_count": 5,
     "metadata": {},
     "output_type": "execute_result"
    }
   ],
   "source": [
    "#list the columns name\n",
    "column_list = []\n",
    "column_table_begin = None\n",
    "for col in soup.find_all(\"span\", class_=\"institutional-holdings__columnheader-text\"):\n",
    "    if col.text == \"OWNER NAME\":\n",
    "        column_table_begin = col.parent.parent.parent\n",
    "column_table_begin        \n",
    "for col in column_table_begin.find_all(\"span\", class_=\"institutional-holdings__columnheader-text\"):\n",
    "    column_list.append(col.text)\n",
    "column_list"
   ]
  },
  {
   "cell_type": "code",
   "execution_count": 6,
   "metadata": {},
   "outputs": [],
   "source": [
    "# Get number of pages\n",
    "max_page = 0\n",
    "for bttn in soup.find_all(\"button\", class_=\"pagination__page\"):\n",
    "    max_page = max(max_page, int(bttn.text))"
   ]
  },
  {
   "cell_type": "code",
   "execution_count": 7,
   "metadata": {},
   "outputs": [],
   "source": [
    "import pandas as pd\n",
    "from collections import defaultdict\n",
    "from typing import List\n",
    "def load_to_dataframe(soup, column_list=List[str]) -> pd.DataFrame:\n",
    "    temp_data = defaultdict(list)\n",
    "    for row in soup.find_all(\"a\", class_=\"firstCell\"):\n",
    "        #v = row.find_next(\"a\", class_=\"firstCell\")\n",
    "        # Get the first column\n",
    "        v_row = (row.parent.parent)\n",
    "        inx = 0\n",
    "\n",
    "        for cols in v_row.find_all(\"td\", class_=\"institutional-holdings__cell institutional-holdings__cell--heading\"):\n",
    "            temp_data[column_list[inx]].append(cols.text)\n",
    "            inx += 1\n",
    "    df = pd.DataFrame(data=temp_data )\n",
    "    \n",
    "    def is_number(s):\n",
    "        try:\n",
    "            float(s)\n",
    "            return True\n",
    "        except ValueError:\n",
    "            return False\n",
    "\n",
    "    try:\n",
    "        df[column_list[len(column_list)-1]] = df[column_list[len(column_list)-1]].map(lambda x: float(x.strip('$').replace(\",\",\"\")))\n",
    "        df[column_list[2]] = df[column_list[2]].map(lambda x: float(x.strip('$').replace(\",\",\"\")))\n",
    "        df[column_list[3]] = df[column_list[3]].map(lambda x: float(x.replace(\",\",\"\")))\n",
    "        df[column_list[4]] = df[column_list[4]].map(lambda x: float(x[:-1])/100 if is_number(x[:-1]) else 0 )\n",
    "    except Exception as e:\n",
    "        return df\n",
    "    return df\n",
    "df = load_to_dataframe(soup=soup, column_list=column_list)\n"
   ]
  },
  {
   "cell_type": "code",
   "execution_count": 8,
   "metadata": {},
   "outputs": [
    {
     "data": {
      "text/html": [
       "<div>\n",
       "<style scoped>\n",
       "    .dataframe tbody tr th:only-of-type {\n",
       "        vertical-align: middle;\n",
       "    }\n",
       "\n",
       "    .dataframe tbody tr th {\n",
       "        vertical-align: top;\n",
       "    }\n",
       "\n",
       "    .dataframe thead th {\n",
       "        text-align: right;\n",
       "    }\n",
       "</style>\n",
       "<table border=\"1\" class=\"dataframe\">\n",
       "  <thead>\n",
       "    <tr style=\"text-align: right;\">\n",
       "      <th></th>\n",
       "      <th>OWNER NAME</th>\n",
       "      <th>DATE</th>\n",
       "      <th>SHARES HELD</th>\n",
       "      <th>CHANGE (SHARES)</th>\n",
       "      <th>CHANGE (%)</th>\n",
       "      <th>VALUE (IN 1,000S)</th>\n",
       "    </tr>\n",
       "  </thead>\n",
       "  <tbody>\n",
       "    <tr>\n",
       "      <th>0</th>\n",
       "      <td>BAILLIE GIFFORD &amp; CO</td>\n",
       "      <td>06/30/2021</td>\n",
       "      <td>45883213.0</td>\n",
       "      <td>545449.0</td>\n",
       "      <td>0.01203</td>\n",
       "      <td>20919074.0</td>\n",
       "    </tr>\n",
       "    <tr>\n",
       "      <th>1</th>\n",
       "      <td>FLAGSHIP PIONEERING INC.</td>\n",
       "      <td>06/30/2021</td>\n",
       "      <td>20581016.0</td>\n",
       "      <td>0.0</td>\n",
       "      <td>0.00000</td>\n",
       "      <td>9383297.0</td>\n",
       "    </tr>\n",
       "    <tr>\n",
       "      <th>2</th>\n",
       "      <td>VANGUARD GROUP INC</td>\n",
       "      <td>06/30/2021</td>\n",
       "      <td>20194904.0</td>\n",
       "      <td>1275874.0</td>\n",
       "      <td>0.06744</td>\n",
       "      <td>9207261.0</td>\n",
       "    </tr>\n",
       "    <tr>\n",
       "      <th>3</th>\n",
       "      <td>BLACKROCK INC.</td>\n",
       "      <td>06/30/2021</td>\n",
       "      <td>19390725.0</td>\n",
       "      <td>-1412672.0</td>\n",
       "      <td>-0.06791</td>\n",
       "      <td>8840619.0</td>\n",
       "    </tr>\n",
       "    <tr>\n",
       "      <th>4</th>\n",
       "      <td>MORGAN STANLEY</td>\n",
       "      <td>06/30/2021</td>\n",
       "      <td>7421497.0</td>\n",
       "      <td>-801291.0</td>\n",
       "      <td>-0.09745</td>\n",
       "      <td>3383609.0</td>\n",
       "    </tr>\n",
       "    <tr>\n",
       "      <th>5</th>\n",
       "      <td>STATE STREET CORP</td>\n",
       "      <td>06/30/2021</td>\n",
       "      <td>7325576.0</td>\n",
       "      <td>1316702.0</td>\n",
       "      <td>0.21913</td>\n",
       "      <td>3339877.0</td>\n",
       "    </tr>\n",
       "    <tr>\n",
       "      <th>6</th>\n",
       "      <td>FMR LLC</td>\n",
       "      <td>06/30/2021</td>\n",
       "      <td>7215019.0</td>\n",
       "      <td>1452440.0</td>\n",
       "      <td>0.25205</td>\n",
       "      <td>3289471.0</td>\n",
       "    </tr>\n",
       "    <tr>\n",
       "      <th>7</th>\n",
       "      <td>COATUE MANAGEMENT LLC</td>\n",
       "      <td>06/30/2021</td>\n",
       "      <td>6140904.0</td>\n",
       "      <td>4883219.0</td>\n",
       "      <td>3.88270</td>\n",
       "      <td>2799761.0</td>\n",
       "    </tr>\n",
       "    <tr>\n",
       "      <th>8</th>\n",
       "      <td>THELEME PARTNERS LLP</td>\n",
       "      <td>06/30/2021</td>\n",
       "      <td>6072056.0</td>\n",
       "      <td>-230000.0</td>\n",
       "      <td>-0.03650</td>\n",
       "      <td>2768372.0</td>\n",
       "    </tr>\n",
       "    <tr>\n",
       "      <th>9</th>\n",
       "      <td>LONE PINE CAPITAL LLC</td>\n",
       "      <td>06/30/2021</td>\n",
       "      <td>3990897.0</td>\n",
       "      <td>3990897.0</td>\n",
       "      <td>0.00000</td>\n",
       "      <td>1819530.0</td>\n",
       "    </tr>\n",
       "    <tr>\n",
       "      <th>10</th>\n",
       "      <td>GEODE CAPITAL MANAGEMENT, LLC</td>\n",
       "      <td>06/30/2021</td>\n",
       "      <td>3355858.0</td>\n",
       "      <td>-450572.0</td>\n",
       "      <td>-0.11837</td>\n",
       "      <td>1530003.0</td>\n",
       "    </tr>\n",
       "    <tr>\n",
       "      <th>11</th>\n",
       "      <td>RENAISSANCE TECHNOLOGIES LLC</td>\n",
       "      <td>06/30/2021</td>\n",
       "      <td>3188454.0</td>\n",
       "      <td>1552925.0</td>\n",
       "      <td>0.94949</td>\n",
       "      <td>1453680.0</td>\n",
       "    </tr>\n",
       "    <tr>\n",
       "      <th>12</th>\n",
       "      <td>BANQUE PICTET &amp; CIE SA</td>\n",
       "      <td>06/30/2021</td>\n",
       "      <td>3017169.0</td>\n",
       "      <td>-22240.0</td>\n",
       "      <td>-0.00732</td>\n",
       "      <td>1375588.0</td>\n",
       "    </tr>\n",
       "    <tr>\n",
       "      <th>13</th>\n",
       "      <td>BELLEVUE GROUP AG</td>\n",
       "      <td>06/30/2021</td>\n",
       "      <td>2542300.0</td>\n",
       "      <td>-267650.0</td>\n",
       "      <td>-0.09525</td>\n",
       "      <td>1159085.0</td>\n",
       "    </tr>\n",
       "    <tr>\n",
       "      <th>14</th>\n",
       "      <td>NORGES BANK</td>\n",
       "      <td>12/31/2020</td>\n",
       "      <td>2306050.0</td>\n",
       "      <td>424501.0</td>\n",
       "      <td>0.22561</td>\n",
       "      <td>1051374.0</td>\n",
       "    </tr>\n",
       "  </tbody>\n",
       "</table>\n",
       "</div>"
      ],
      "text/plain": [
       "                       OWNER NAME        DATE  SHARES HELD  CHANGE (SHARES)  \\\n",
       "0            BAILLIE GIFFORD & CO  06/30/2021   45883213.0         545449.0   \n",
       "1        FLAGSHIP PIONEERING INC.  06/30/2021   20581016.0              0.0   \n",
       "2              VANGUARD GROUP INC  06/30/2021   20194904.0        1275874.0   \n",
       "3                  BLACKROCK INC.  06/30/2021   19390725.0       -1412672.0   \n",
       "4                  MORGAN STANLEY  06/30/2021    7421497.0        -801291.0   \n",
       "5               STATE STREET CORP  06/30/2021    7325576.0        1316702.0   \n",
       "6                         FMR LLC  06/30/2021    7215019.0        1452440.0   \n",
       "7           COATUE MANAGEMENT LLC  06/30/2021    6140904.0        4883219.0   \n",
       "8            THELEME PARTNERS LLP  06/30/2021    6072056.0        -230000.0   \n",
       "9           LONE PINE CAPITAL LLC  06/30/2021    3990897.0        3990897.0   \n",
       "10  GEODE CAPITAL MANAGEMENT, LLC  06/30/2021    3355858.0        -450572.0   \n",
       "11   RENAISSANCE TECHNOLOGIES LLC  06/30/2021    3188454.0        1552925.0   \n",
       "12         BANQUE PICTET & CIE SA  06/30/2021    3017169.0         -22240.0   \n",
       "13              BELLEVUE GROUP AG  06/30/2021    2542300.0        -267650.0   \n",
       "14                    NORGES BANK  12/31/2020    2306050.0         424501.0   \n",
       "\n",
       "    CHANGE (%)  VALUE (IN 1,000S)  \n",
       "0      0.01203         20919074.0  \n",
       "1      0.00000          9383297.0  \n",
       "2      0.06744          9207261.0  \n",
       "3     -0.06791          8840619.0  \n",
       "4     -0.09745          3383609.0  \n",
       "5      0.21913          3339877.0  \n",
       "6      0.25205          3289471.0  \n",
       "7      3.88270          2799761.0  \n",
       "8     -0.03650          2768372.0  \n",
       "9      0.00000          1819530.0  \n",
       "10    -0.11837          1530003.0  \n",
       "11     0.94949          1453680.0  \n",
       "12    -0.00732          1375588.0  \n",
       "13    -0.09525          1159085.0  \n",
       "14     0.22561          1051374.0  "
      ]
     },
     "execution_count": 8,
     "metadata": {},
     "output_type": "execute_result"
    }
   ],
   "source": [
    "df"
   ]
  },
  {
   "cell_type": "code",
   "execution_count": null,
   "metadata": {},
   "outputs": [],
   "source": [
    "df.to_csv(f\"nasdaq.institution.selenium.{stock}.csv\", index=False)\n",
    "df"
   ]
  },
  {
   "cell_type": "code",
   "execution_count": null,
   "metadata": {},
   "outputs": [],
   "source": [
    "\n",
    "bttn2 = None\n",
    "for bttn in soup.find_all(\"button\", class_=\"pagination__page\"):\n",
    "    print(bttn.text)\n",
    "    if bttn.text == \"2\":\n",
    "        bttn2 = bttn"
   ]
  },
  {
   "cell_type": "code",
   "execution_count": null,
   "metadata": {},
   "outputs": [],
   "source": [
    "try:\n",
    "    buttons = driver.find_elements_by_tag_name(\"button.pagination__page\")\n",
    "    buttons[0].click()\n",
    "except Exception as ex:\n",
    "    print(f\"exception:{ex}\")"
   ]
  },
  {
   "cell_type": "code",
   "execution_count": null,
   "metadata": {},
   "outputs": [],
   "source": [
    "max_page"
   ]
  },
  {
   "cell_type": "code",
   "execution_count": null,
   "metadata": {},
   "outputs": [],
   "source": [
    "\n",
    "html = driver.page_source\n",
    "soup = BeautifulSoup(html)"
   ]
  },
  {
   "cell_type": "code",
   "execution_count": 9,
   "metadata": {},
   "outputs": [],
   "source": [
    "with open (\"page.txt\", \"w\") as f:\n",
    "    f.write(soup.text)"
   ]
  },
  {
   "cell_type": "code",
   "execution_count": 10,
   "metadata": {},
   "outputs": [],
   "source": [
    "with open(\"page.html\", \"w\") as f:\n",
    "    f.write(str(soup))"
   ]
  },
  {
   "cell_type": "code",
   "execution_count": null,
   "metadata": {},
   "outputs": [],
   "source": [
    "from collections import defaultdict\n",
    "\n",
    "temp_data = defaultdict(list)"
   ]
  },
  {
   "cell_type": "code",
   "execution_count": null,
   "metadata": {},
   "outputs": [],
   "source": [
    "driver.close()"
   ]
  },
  {
   "cell_type": "code",
   "execution_count": null,
   "metadata": {},
   "outputs": [],
   "source": [
    "float(\"-12\")"
   ]
  },
  {
   "cell_type": "code",
   "execution_count": null,
   "metadata": {},
   "outputs": [],
   "source": [
    "\"12%\"[:-1]"
   ]
  },
  {
   "cell_type": "code",
   "execution_count": 12,
   "metadata": {},
   "outputs": [],
   "source": [
    "button  = driver.find_element_by_tag_name(\"button.pagination__page--active\")\n",
    "button.text"
   ]
  },
  {
   "cell_type": "code",
   "execution_count": 13,
   "metadata": {},
   "outputs": [
    {
     "data": {
      "text/plain": [
       "'1'"
      ]
     },
     "execution_count": 13,
     "metadata": {},
     "output_type": "execute_result"
    }
   ],
   "source": []
  },
  {
   "cell_type": "code",
   "execution_count": null,
   "metadata": {},
   "outputs": [],
   "source": []
  }
 ],
 "metadata": {
  "kernelspec": {
   "display_name": "Python 3 (ipykernel)",
   "language": "python",
   "name": "python3"
  },
  "language_info": {
   "codemirror_mode": {
    "name": "ipython",
    "version": 3
   },
   "file_extension": ".py",
   "mimetype": "text/x-python",
   "name": "python",
   "nbconvert_exporter": "python",
   "pygments_lexer": "ipython3",
   "version": "3.9.6"
  }
 },
 "nbformat": 4,
 "nbformat_minor": 4
}
