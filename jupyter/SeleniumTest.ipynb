{
 "cells": [
  {
   "cell_type": "code",
   "execution_count": 1,
   "metadata": {},
   "outputs": [],
   "source": [
    "stock=\"mrna\""
   ]
  },
  {
   "cell_type": "code",
   "execution_count": 2,
   "metadata": {},
   "outputs": [],
   "source": [
    "from bs4 import BeautifulSoup\n",
    "from selenium import webdriver\n",
    "from selenium.webdriver.chrome.options import Options\n",
    "chrome_options = Options()  \n",
    "user_agent = \"Mozilla/5.0 (Macintosh; Intel Mac OS X 10_15_7) AppleWebKit/537.36 (KHTML, like Gecko) Chrome/92.0.4515.159 Safari/537.36\"\n",
    "chrome_options.add_argument(\"--headless\")\n",
    "chrome_options.add_argument('user-agent={0}'.format(user_agent))\n",
    "driver = webdriver.Chrome(options=chrome_options)"
   ]
  },
  {
   "cell_type": "code",
   "execution_count": 3,
   "metadata": {},
   "outputs": [],
   "source": [
    "driver.get(f'https://www.nasdaq.com/market-activity/stocks/{stock}/institutional-holdings')"
   ]
  },
  {
   "cell_type": "code",
   "execution_count": 4,
   "metadata": {},
   "outputs": [],
   "source": [
    "html = driver.page_source\n",
    "soup = BeautifulSoup(html)"
   ]
  },
  {
   "cell_type": "code",
   "execution_count": 5,
   "metadata": {},
   "outputs": [
    {
     "data": {
      "text/plain": [
       "['OWNER NAME',\n",
       " 'DATE',\n",
       " 'SHARES HELD',\n",
       " 'CHANGE (SHARES)',\n",
       " 'CHANGE (%)',\n",
       " 'VALUE (IN 1,000S)']"
      ]
     },
     "execution_count": 5,
     "metadata": {},
     "output_type": "execute_result"
    }
   ],
   "source": [
    "#list the columns name\n",
    "column_list = []\n",
    "column_table_begin = None\n",
    "for col in soup.find_all(\"span\", class_=\"institutional-holdings__columnheader-text\"):\n",
    "    if col.text == \"OWNER NAME\":\n",
    "        column_table_begin = col.parent.parent.parent\n",
    "column_table_begin        \n",
    "for col in column_table_begin.find_all(\"span\", class_=\"institutional-holdings__columnheader-text\"):\n",
    "    column_list.append(col.text)\n",
    "column_list"
   ]
  },
  {
   "cell_type": "code",
   "execution_count": 6,
   "metadata": {},
   "outputs": [],
   "source": [
    "# Get number of pages\n",
    "max_page = 0\n",
    "for bttn in soup.find_all(\"button\", class_=\"pagination__page\"):\n",
    "    max_page = max(max_page, int(bttn.text))"
   ]
  },
  {
   "cell_type": "code",
   "execution_count": null,
   "metadata": {},
   "outputs": [],
   "source": [
    "import pandas as pd\n",
    "from collections import defaultdict\n",
    "from typing import List\n",
    "def load_to_dataframe(soup, column_list=List[str]) -> pd.DataFrame:\n",
    "    temp_data = defaultdict(list)\n",
    "    for row in soup.find_all(\"a\", class_=\"firstCell\"):\n",
    "        #v = row.find_next(\"a\", class_=\"firstCell\")\n",
    "        # Get the first column\n",
    "        v_row = (row.parent.parent)\n",
    "        inx = 0\n",
    "\n",
    "        for cols in v_row.find_all(\"td\", class_=\"institutional-holdings__cell institutional-holdings__cell--heading\"):\n",
    "            temp_data[column_list[inx]].append(cols.text)\n",
    "            inx += 1\n",
    "    df = pd.DataFrame(data=temp_data )\n",
    "    \n",
    "    def is_number(s):\n",
    "        try:\n",
    "            float(s)\n",
    "            return True\n",
    "        except ValueError:\n",
    "            return False\n",
    "\n",
    "    try:\n",
    "        df[column_list[len(column_list)-1]] = df[column_list[len(column_list)-1]].map(lambda x: float(x.strip('$').replace(\",\",\"\")))\n",
    "        df[column_list[2]] = df[column_list[2]].map(lambda x: float(x.strip('$').replace(\",\",\"\")))\n",
    "        df[column_list[3]] = df[column_list[3]].map(lambda x: float(x.replace(\",\",\"\")))\n",
    "        df[column_list[4]] = df[column_list[4]].map(lambda x: float(x[:-1])/100 if is_number(x[:-1]) else 0 )\n",
    "    except Exception as e:\n",
    "        return df\n",
    "    return df\n",
    "df = load_to_dataframe(soup=soup, column_list=column_list)\n"
   ]
  },
  {
   "cell_type": "code",
   "execution_count": null,
   "metadata": {},
   "outputs": [],
   "source": [
    "df"
   ]
  },
  {
   "cell_type": "code",
   "execution_count": null,
   "metadata": {},
   "outputs": [],
   "source": [
    "df.to_csv(f\"nasdaq.institution.selenium.{stock}.csv\", index=False)\n",
    "df"
   ]
  },
  {
   "cell_type": "code",
   "execution_count": null,
   "metadata": {},
   "outputs": [],
   "source": [
    "\n",
    "bttn2 = None\n",
    "for bttn in soup.find_all(\"button\", class_=\"pagination__page\"):\n",
    "    print(bttn.text)\n",
    "    if bttn.text == \"2\":\n",
    "        bttn2 = bttn"
   ]
  },
  {
   "cell_type": "code",
   "execution_count": null,
   "metadata": {},
   "outputs": [],
   "source": [
    "try:\n",
    "    buttons = driver.find_elements_by_tag_name(\"button.pagination__page\")\n",
    "    buttons[0].click()\n",
    "except Exception as ex:\n",
    "    print(f\"exception:{ex}\")"
   ]
  },
  {
   "cell_type": "code",
   "execution_count": 7,
   "metadata": {},
   "outputs": [
    {
     "name": "stdout",
     "output_type": "stream",
     "text": [
      "1\n",
      "2\n",
      "3\n",
      "4\n",
      "5\n",
      "6\n",
      "7\n",
      "66\n"
     ]
    }
   ],
   "source": [
    "try:\n",
    "    for bttn in driver.find_elements_by_tag_name(\"button.pagination__page\"):\n",
    "        print(bttn.text)\n",
    "except Exception as ex:\n",
    "    print(f\"exception:{ex}\")"
   ]
  },
  {
   "cell_type": "code",
   "execution_count": null,
   "metadata": {},
   "outputs": [],
   "source": [
    "max_page"
   ]
  },
  {
   "cell_type": "code",
   "execution_count": null,
   "metadata": {},
   "outputs": [],
   "source": [
    "\n",
    "html = driver.page_source\n",
    "soup = BeautifulSoup(html)"
   ]
  },
  {
   "cell_type": "code",
   "execution_count": null,
   "metadata": {},
   "outputs": [],
   "source": [
    "with open (\"page.txt\", \"w\") as f:\n",
    "    f.write(soup.text)"
   ]
  },
  {
   "cell_type": "code",
   "execution_count": null,
   "metadata": {},
   "outputs": [],
   "source": [
    "with open(\"page.html\", \"w\") as f:\n",
    "    f.write(str(soup))"
   ]
  },
  {
   "cell_type": "code",
   "execution_count": null,
   "metadata": {},
   "outputs": [],
   "source": [
    "from collections import defaultdict\n",
    "\n",
    "temp_data = defaultdict(list)"
   ]
  },
  {
   "cell_type": "code",
   "execution_count": null,
   "metadata": {},
   "outputs": [],
   "source": [
    "driver.close()"
   ]
  },
  {
   "cell_type": "code",
   "execution_count": null,
   "metadata": {},
   "outputs": [],
   "source": [
    "float(\"-12\")"
   ]
  },
  {
   "cell_type": "code",
   "execution_count": null,
   "metadata": {},
   "outputs": [],
   "source": [
    "\"12%\"[:-1]"
   ]
  },
  {
   "cell_type": "code",
   "execution_count": null,
   "metadata": {},
   "outputs": [],
   "source": [
    "button  = driver.find_element_by_tag_name(\"button.pagination__page--active\")\n",
    "button.text"
   ]
  },
  {
   "cell_type": "code",
   "execution_count": null,
   "metadata": {},
   "outputs": [],
   "source": []
  },
  {
   "cell_type": "code",
   "execution_count": null,
   "metadata": {},
   "outputs": [],
   "source": []
  }
 ],
 "metadata": {
  "kernelspec": {
   "display_name": "Python 3",
   "language": "python",
   "name": "python3"
  },
  "language_info": {
   "codemirror_mode": {
    "name": "ipython",
    "version": 3
   },
   "file_extension": ".py",
   "mimetype": "text/x-python",
   "name": "python",
   "nbconvert_exporter": "python",
   "pygments_lexer": "ipython3",
   "version": "3.9.6"
  }
 },
 "nbformat": 4,
 "nbformat_minor": 4
}
