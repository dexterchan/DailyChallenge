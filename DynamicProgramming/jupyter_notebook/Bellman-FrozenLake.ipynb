{
 "cells": [
  {
   "cell_type": "code",
   "execution_count": 1,
   "id": "85a73cea",
   "metadata": {},
   "outputs": [],
   "source": [
    "import gym"
   ]
  },
  {
   "cell_type": "code",
   "execution_count": 2,
   "id": "089c4b37",
   "metadata": {},
   "outputs": [],
   "source": [
    "import numpy as np\n",
    "#make environment\n",
    "env = gym.make('FrozenLake-v1')\n",
    "# as the environment is continues there cannot be finite number of states \n",
    "states = env.observation_space.n #used if discrete environment"
   ]
  },
  {
   "cell_type": "code",
   "execution_count": 3,
   "id": "df7467a6",
   "metadata": {},
   "outputs": [],
   "source": [
    "#check number of actions that can be \n",
    "actions = env.action_space.n\n",
    "\n",
    "#initialize value table randomly\n",
    "value_table = np.zeros((states,1))"
   ]
  },
  {
   "cell_type": "code",
   "execution_count": 4,
   "id": "b86a214c",
   "metadata": {},
   "outputs": [],
   "source": [
    "def value_iterations(env , n_iterations , gamma = 1.0 , threshold = 1e-30):\n",
    "    for i in range(n_iterations):\n",
    "        new_valuetable = np.copy(value_table)\n",
    "        for state in range(states):\n",
    "            q_value = []\n",
    "            for action in range(actions):\n",
    "                next_state_reward = []\n",
    "                for next_state_parameters in env.env.P[state][action]:\n",
    "                    transition_prob, next_state, reward_prob, _ = next_state_parameters\n",
    "                    reward = transition_prob*(reward_prob+gamma*new_valuetable[next_state])\n",
    "                    next_state_reward.append(reward)\n",
    "                    \n",
    "                    \n",
    "                q_value.append((np.sum(next_state_reward)))\n",
    "            value_table[state] = max(q_value)\n",
    "            \n",
    "        if (np.sum(np.fabs(new_valuetable - value_table))<=threshold):\n",
    "            break\n",
    "    return value_table"
   ]
  },
  {
   "cell_type": "code",
   "execution_count": 5,
   "id": "6d641e53",
   "metadata": {},
   "outputs": [
    {
     "name": "stdout",
     "output_type": "stream",
     "text": [
      "[0. 3. 3. 3. 0. 0. 0. 0. 3. 1. 0. 0. 0. 2. 1. 0.]\n"
     ]
    }
   ],
   "source": [
    "def extract_policy(value_table, gamma = 1.0):\n",
    "  policy = np.zeros(env.observation_space.n)\n",
    "  for state in range(env.observation_space.n):\n",
    "    Q_table = np.zeros(env.action_space.n)\n",
    "    for action in range(env.action_space.n):\n",
    "      for next_sr in env.env.P[state][action]:\n",
    "        transition_prob, next_state, reward_prob, _ = next_sr\n",
    "        Q_table[action] += (transition_prob * (reward_prob + gamma *value_table[next_state]))\n",
    "    policy[state] = np.argmax(Q_table)\n",
    "  return policy\n",
    "value_table = value_iterations(env,10000)\n",
    "policy = extract_policy(value_table)\n",
    "print(policy)"
   ]
  },
  {
   "cell_type": "code",
   "execution_count": 6,
   "id": "4d5cb16d",
   "metadata": {},
   "outputs": [
    {
     "name": "stdout",
     "output_type": "stream",
     "text": [
      "\n",
      "\u001b[41mS\u001b[0mFFF\n",
      "FHFH\n",
      "FFFH\n",
      "HFFG\n"
     ]
    }
   ],
   "source": [
    "env.render()"
   ]
  },
  {
   "cell_type": "code",
   "execution_count": 7,
   "id": "1bf5968a",
   "metadata": {},
   "outputs": [
    {
     "name": "stdout",
     "output_type": "stream",
     "text": [
      "[[0.82352941 0.82352941 0.82352941 0.82352941]\n",
      " [0.82352941 0.         0.52941176 0.        ]\n",
      " [0.82352941 0.82352941 0.76470588 0.        ]\n",
      " [0.         0.88235294 0.94117647 0.        ]]\n"
     ]
    }
   ],
   "source": [
    "print(value_table.reshape([4, -1]))"
   ]
  },
  {
   "cell_type": "code",
   "execution_count": 8,
   "id": "0d16efe9",
   "metadata": {},
   "outputs": [
    {
     "name": "stdout",
     "output_type": "stream",
     "text": [
      "[[0. 3. 3. 3.]\n",
      " [0. 0. 0. 0.]\n",
      " [3. 1. 0. 0.]\n",
      " [0. 2. 1. 0.]]\n"
     ]
    }
   ],
   "source": [
    "print(policy.reshape([4, -1]))"
   ]
  },
  {
   "cell_type": "code",
   "execution_count": 11,
   "id": "eafaebef",
   "metadata": {},
   "outputs": [
    {
     "data": {
      "text/plain": [
       "{0: [(1.0, 5, 0, True)],\n",
       " 1: [(1.0, 5, 0, True)],\n",
       " 2: [(1.0, 5, 0, True)],\n",
       " 3: [(1.0, 5, 0, True)]}"
      ]
     },
     "execution_count": 11,
     "metadata": {},
     "output_type": "execute_result"
    }
   ],
   "source": [
    "env.env.P[5]"
   ]
  },
  {
   "cell_type": "code",
   "execution_count": null,
   "id": "669af1be",
   "metadata": {},
   "outputs": [],
   "source": []
  }
 ],
 "metadata": {
  "kernelspec": {
   "display_name": "Python 3 (ipykernel)",
   "language": "python",
   "name": "python3"
  },
  "language_info": {
   "codemirror_mode": {
    "name": "ipython",
    "version": 3
   },
   "file_extension": ".py",
   "mimetype": "text/x-python",
   "name": "python",
   "nbconvert_exporter": "python",
   "pygments_lexer": "ipython3",
   "version": "3.9.6"
  }
 },
 "nbformat": 4,
 "nbformat_minor": 5
}
